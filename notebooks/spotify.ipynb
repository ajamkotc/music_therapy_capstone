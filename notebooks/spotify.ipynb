{
 "cells": [
  {
   "cell_type": "markdown",
   "id": "24197637-3874-4558-ab48-be4c6f1634df",
   "metadata": {},
   "source": [
    "# Spotify Data"
   ]
  },
  {
   "cell_type": "markdown",
   "id": "3f1ee79b-5037-4ee3-9569-d4a93fe20408",
   "metadata": {},
   "source": [
    "This data will assist in imputing values for the 'BPM' column in the 'Music & Mental Health Survey' dataset. More specifically, the difference in BPM between genres will be investigated. If there is a significant difference between them, these will be used to impute the missing values."
   ]
  },
  {
   "cell_type": "code",
   "execution_count": 4,
   "id": "2bcd863a-5922-42b3-a9a4-95729603cdeb",
   "metadata": {},
   "outputs": [
    {
     "name": "stdout",
     "output_type": "stream",
     "text": [
      "92c5e7be37a8453eaf8ad50403e73960\n",
      "c544f4d3b63a4e0ba46d69e05ceea715\n"
     ]
    }
   ],
   "source": [
    "import os\n",
    "from dotenv import load_dotenv\n",
    "\n",
    "load_dotenv()\n",
    "CLIENT_ID = os.getenv('CLIENT_ID')\n",
    "CLIENT_SECRET = os.getenv('CLIENT_SECRET')\n",
    "\n",
    "print(f\"{CLIENT_ID}\\n{CLIENT_SECRET}\")"
   ]
  },
  {
   "cell_type": "code",
   "execution_count": 5,
   "id": "7cb8229c-63d3-4e49-a3b6-663f327d72a0",
   "metadata": {},
   "outputs": [],
   "source": [
    "import requests\n",
    "import json\n",
    "import base64"
   ]
  },
  {
   "cell_type": "code",
   "execution_count": 49,
   "id": "82091f07-f2d0-4895-a377-6bfbbdbe8f72",
   "metadata": {},
   "outputs": [],
   "source": [
    "# Method for requesting access token from Spotify\n",
    "\n",
    "def get_access_token():\n",
    "    # Creates authorization parameter for Client Credentials\n",
    "    credentials = CLIENT_ID + ':' + CLIENT_SECRET\n",
    "    auth_string = \"Basic \" + str(base64.b64encode(credentials.encode('utf-8')), 'utf-8')\n",
    "    \n",
    "    url = 'https://accounts.spotify.com/api/token'\n",
    "\n",
    "    headers = {'Authorization':auth_string,\n",
    "              'Content-Type':'application/x-www-form-urlencoded'}\n",
    "\n",
    "    data = {'grant_type':'client_credentials'}\n",
    "\n",
    "    r = requests.post(url=url, headers=headers, data=data)\n",
    "    r_json = r.json()\n",
    "\n",
    "    return r_json['access_token']"
   ]
  },
  {
   "cell_type": "code",
   "execution_count": 60,
   "id": "cceaf849-94ab-4243-801c-3731316a1e21",
   "metadata": {},
   "outputs": [],
   "source": [
    "# Method to generate the authorization header\n",
    "\n",
    "def header_auth(access_token=get_access_token()):\n",
    "    return f\"Bearer {access_token}\""
   ]
  },
  {
   "cell_type": "code",
   "execution_count": 89,
   "id": "93195985-12c6-42c4-b5c3-5fbd86ebfa65",
   "metadata": {},
   "outputs": [],
   "source": [
    "def search_for_playlist(name, authorization_header):\n",
    "    url = 'https://api.spotify.com/v1/search?'\n",
    "\n",
    "    headers = {'Authorization':authorization_header}\n",
    "\n",
    "    params = {\n",
    "        'q' : name,\n",
    "        'type' : 'playlist',\n",
    "        'limit' : 1\n",
    "    }\n",
    "\n",
    "    r = requests.get(url=url, params=params, headers=headers)\n",
    "\n",
    "    return r.json()"
   ]
  },
  {
   "cell_type": "code",
   "execution_count": 107,
   "id": "5cf67b3b-2668-4866-9f76-686304f3f8f9",
   "metadata": {},
   "outputs": [
    {
     "data": {
      "text/plain": [
       "{'playlists': {'href': 'https://api.spotify.com/v1/search?query=country&type=playlist&offset=0&limit=1',\n",
       "  'items': [{'collaborative': False,\n",
       "    'description': '<a href=spotify:playlist:37i9dQZF1EIUnslPhwwdfa>Zach Bryan</a>, <a href=spotify:playlist:37i9dQZF1EIZoG23rVVGdj>Morgan Wallen</a>, <a href=spotify:playlist:37i9dQZF1EIWVuHIqWXWZF>Luke Combs</a> and more',\n",
       "    'external_urls': {'spotify': 'https://open.spotify.com/playlist/37i9dQZF1EQmPV0vrce2QZ'},\n",
       "    'href': 'https://api.spotify.com/v1/playlists/37i9dQZF1EQmPV0vrce2QZ',\n",
       "    'id': '37i9dQZF1EQmPV0vrce2QZ',\n",
       "    'images': [{'height': None,\n",
       "      'url': 'https://seed-mix-image.spotifycdn.com/v6/img/country/40ZNYROS4zLfyyBSs2PGe2/es-419/large',\n",
       "      'width': None}],\n",
       "    'name': 'Country Mix',\n",
       "    'owner': {'display_name': 'Spotify',\n",
       "     'external_urls': {'spotify': 'https://open.spotify.com/user/spotify'},\n",
       "     'href': 'https://api.spotify.com/v1/users/spotify',\n",
       "     'id': 'spotify',\n",
       "     'type': 'user',\n",
       "     'uri': 'spotify:user:spotify'},\n",
       "    'primary_color': None,\n",
       "    'public': None,\n",
       "    'snapshot_id': 'MCwwMDAwMDAwMDM2NzlkYTc4MWY1ZDhmMDFiZGQxY2NhODJhZTYzN2Q1',\n",
       "    'tracks': {'href': 'https://api.spotify.com/v1/playlists/37i9dQZF1EQmPV0vrce2QZ/tracks',\n",
       "     'total': 50},\n",
       "    'type': 'playlist',\n",
       "    'uri': 'spotify:playlist:37i9dQZF1EQmPV0vrce2QZ'}],\n",
       "  'limit': 1,\n",
       "  'next': 'https://api.spotify.com/v1/search?query=country&type=playlist&offset=1&limit=1',\n",
       "  'offset': 0,\n",
       "  'previous': None,\n",
       "  'total': 1000}}"
      ]
     },
     "execution_count": 107,
     "metadata": {},
     "output_type": "execute_result"
    }
   ],
   "source": [
    "access_token = get_access_token()\n",
    "header = header_auth(access_token)\n",
    "playlist_json = search_for_playlist('country', header)\n",
    "playlist_json"
   ]
  },
  {
   "cell_type": "code",
   "execution_count": 124,
   "id": "c6ae5336-87e8-4a32-b889-6b87305397fd",
   "metadata": {},
   "outputs": [],
   "source": [
    "def get_tracks(playlist_url, authorization_header):\n",
    "    url = playlist_url\n",
    "    headers = {'Authorization':authorization_header}\n",
    "    params = {'fields':'items.track.uri'}\n",
    "\n",
    "    r = requests.get(url=url, params=params, headers=headers)\n",
    "    return r.json()"
   ]
  },
  {
   "cell_type": "code",
   "execution_count": 125,
   "id": "236a9b0f-39f6-48fa-830c-d12c2aa8f284",
   "metadata": {},
   "outputs": [
    {
     "data": {
      "text/plain": [
       "{'items': [{'track': {'uri': 'spotify:track:4KULAymBBJcPRpk1yO4dOG'}},\n",
       "  {'track': {'uri': 'spotify:track:5W4kiM2cUYBJXKRudNyxjW'}},\n",
       "  {'track': {'uri': 'spotify:track:48UKTR66uUOT9LaUvooTNx'}},\n",
       "  {'track': {'uri': 'spotify:track:1ipcb9qXpSHWhSUvdxJhsx'}},\n",
       "  {'track': {'uri': 'spotify:track:3xdjjKMcMOFgo1eQrfbogM'}},\n",
       "  {'track': {'uri': 'spotify:track:2uX5f3x2cObov0iDAPln4o'}},\n",
       "  {'track': {'uri': 'spotify:track:4TnUKixNWMfajncgdSwFoi'}},\n",
       "  {'track': {'uri': 'spotify:track:4TJUS843fKiqqIzycM74Oy'}},\n",
       "  {'track': {'uri': 'spotify:track:5Pgwi0iizu96RHxJ4xL3SH'}},\n",
       "  {'track': {'uri': 'spotify:track:0FtV0YbnnjD7PXpLHFHPhn'}},\n",
       "  {'track': {'uri': 'spotify:track:3oW6SWwGqiZSPTiAp7ZQoH'}},\n",
       "  {'track': {'uri': 'spotify:track:6iy4PoAuZBMvtrlDX4VxC7'}},\n",
       "  {'track': {'uri': 'spotify:track:0M7mWKqwTIaVjYyxfZmtTa'}},\n",
       "  {'track': {'uri': 'spotify:track:7221xIgOnuakPdLqT0F3nP'}},\n",
       "  {'track': {'uri': 'spotify:track:2MiXC2LfpsoeUP5RvMGEQ3'}},\n",
       "  {'track': {'uri': 'spotify:track:59kHPbwyyCApYA8RQQEuXm'}},\n",
       "  {'track': {'uri': 'spotify:track:3xx0jE52PbtvwXgNaBUdch'}},\n",
       "  {'track': {'uri': 'spotify:track:7G6l2FtQyRhQgYgut2I6i8'}},\n",
       "  {'track': {'uri': 'spotify:track:7puxIVNdj5nsBJk43zM3bH'}},\n",
       "  {'track': {'uri': 'spotify:track:56eGOeSsqdg3FLxdo83TwV'}},\n",
       "  {'track': {'uri': 'spotify:track:7lUE02KHkZM44BZgjCaWRO'}},\n",
       "  {'track': {'uri': 'spotify:track:0riGx0wA6jMQsFmgdOUgcH'}},\n",
       "  {'track': {'uri': 'spotify:track:7E2DqvnVtbIrFrL5X6YH9Q'}},\n",
       "  {'track': {'uri': 'spotify:track:7GQjJEwqlp6m5HNWVQd6OR'}},\n",
       "  {'track': {'uri': 'spotify:track:6IC6VhpV7D8T1t037Atqpu'}},\n",
       "  {'track': {'uri': 'spotify:track:11OFYsUK9EVJsQ6nutH32M'}},\n",
       "  {'track': {'uri': 'spotify:track:1mMLMZYXkMueg65jRRWG1l'}},\n",
       "  {'track': {'uri': 'spotify:track:7rDcULv8vV16vetBjPJhuE'}},\n",
       "  {'track': {'uri': 'spotify:track:1jGLlz5SDLRxnq4Tv6ydAQ'}},\n",
       "  {'track': {'uri': 'spotify:track:0LQtEJt7x0s6knb6RKdRYc'}},\n",
       "  {'track': {'uri': 'spotify:track:6uyiyatWPCqC59Mm4rO8xL'}},\n",
       "  {'track': {'uri': 'spotify:track:698eQRku24PIYPQPHItKlA'}},\n",
       "  {'track': {'uri': 'spotify:track:7fveJ3pk1eSfxBdVkzdXZ0'}},\n",
       "  {'track': {'uri': 'spotify:track:2Dct3GykKZ58hpWRFfe2Qd'}},\n",
       "  {'track': {'uri': 'spotify:track:3fqwjXwUGN6vbzIwvyFMhx'}},\n",
       "  {'track': {'uri': 'spotify:track:0e05wFNr6zg1ULcp4NKs1p'}},\n",
       "  {'track': {'uri': 'spotify:track:0eBFgRxyVSeuT4iyrbukdn'}},\n",
       "  {'track': {'uri': 'spotify:track:1qHRFZE8qykNXYZadzmi1m'}},\n",
       "  {'track': {'uri': 'spotify:track:5kUs3EVHCalJewyv29ozfx'}},\n",
       "  {'track': {'uri': 'spotify:track:3WMj8moIAXJhHsyLaqIIHI'}},\n",
       "  {'track': {'uri': 'spotify:track:3cBsEDNhFI9E82vPj3kvi3'}},\n",
       "  {'track': {'uri': 'spotify:track:2rxQMGVafnNaRaXlRMWPde'}},\n",
       "  {'track': {'uri': 'spotify:track:5JnLiuMgRAWoHYOhatFP3s'}},\n",
       "  {'track': {'uri': 'spotify:track:5fZJQrFKWQLb7FpJXZ1g7K'}},\n",
       "  {'track': {'uri': 'spotify:track:26bL4gSULWDgdIMX0pRFrG'}},\n",
       "  {'track': {'uri': 'spotify:track:7Fzl7QaTu47WyP9R5S5mh5'}},\n",
       "  {'track': {'uri': 'spotify:track:1Lo0QY9cvc8sUB2vnIOxDT'}},\n",
       "  {'track': {'uri': 'spotify:track:32jHB7W9b08OTorAqR0cJo'}},\n",
       "  {'track': {'uri': 'spotify:track:68SAQUzxfEW1eKxZvhDDEm'}},\n",
       "  {'track': {'uri': 'spotify:track:2IY559smG7SXYk229NA2Vl'}}]}"
      ]
     },
     "execution_count": 125,
     "metadata": {},
     "output_type": "execute_result"
    }
   ],
   "source": [
    "tracks_url = playlist_json['playlists']['items'][0]['tracks']['href']\n",
    "\n",
    "get_tracks(tracks_url, header)"
   ]
  },
  {
   "cell_type": "code",
   "execution_count": null,
   "id": "434adaf0-b381-46be-9bb0-f8585757f7ee",
   "metadata": {},
   "outputs": [],
   "source": []
  }
 ],
 "metadata": {
  "kernelspec": {
   "display_name": "Python 3 (ipykernel)",
   "language": "python",
   "name": "python3"
  },
  "language_info": {
   "codemirror_mode": {
    "name": "ipython",
    "version": 3
   },
   "file_extension": ".py",
   "mimetype": "text/x-python",
   "name": "python",
   "nbconvert_exporter": "python",
   "pygments_lexer": "ipython3",
   "version": "3.11.7"
  }
 },
 "nbformat": 4,
 "nbformat_minor": 5
}
