{
 "cells": [
  {
   "cell_type": "markdown",
   "metadata": {},
   "source": [
    "# Music Therapy Investigation"
   ]
  },
  {
   "cell_type": "markdown",
   "metadata": {},
   "source": [
    "The purpose of this analysis is to discover trends in music therapy which might help improve the practice. Particularly of interest is the preferred genre of music of patients, and how it relates to the success of the treatment. If a clear trend could be established, this could help enhance music therapy practice for others in the future. A few other relationships can be explored as well, such as the effect of the average BPM of their favorite genre on the success of their treatment, and the frequency with which they listen to various genres."
   ]
  },
  {
   "cell_type": "markdown",
   "metadata": {},
   "source": [
    "## Null and Alternative Hypotheses"
   ]
  },
  {
   "cell_type": "markdown",
   "metadata": {},
   "source": [
    "**Null Hypothesis**: The success of music therapy treatment does not depend on the musical selection or any other musical factors."
   ]
  },
  {
   "cell_type": "markdown",
   "metadata": {},
   "source": [
    "**Alternative Hypothesis**: Choice of musical genre does have an impact on the success of music therapy treatment."
   ]
  },
  {
   "cell_type": "code",
   "execution_count": 18,
   "metadata": {},
   "outputs": [],
   "source": [
    "# Import necessary libraries\n",
    "\n",
    "import pandas as pd\n",
    "import numpy as np\n",
    "\n",
    "# Visualization libraries\n",
    "\n",
    "import matplotlib.pyplot as plt\n",
    "import seaborn as sns\n",
    "\n",
    "# Statistics libraries\n",
    "\n",
    "import statsmodels as sum\n",
    "from scipy.stats import f_oneway \n",
    "\n",
    "# Machine Learning libraries\n",
    "\n",
    "from sklearn.linear_model import LogisticRegression\n",
    "from sklearn.model_selection import train_test_split\n",
    "from sklearn.metrics import accuracy_score, confusion_matrix, classification_report, roc_auc_score"
   ]
  },
  {
   "cell_type": "code",
   "execution_count": 2,
   "metadata": {},
   "outputs": [
    {
     "data": {
      "text/html": [
       "<div>\n",
       "<style scoped>\n",
       "    .dataframe tbody tr th:only-of-type {\n",
       "        vertical-align: middle;\n",
       "    }\n",
       "\n",
       "    .dataframe tbody tr th {\n",
       "        vertical-align: top;\n",
       "    }\n",
       "\n",
       "    .dataframe thead th {\n",
       "        text-align: right;\n",
       "    }\n",
       "</style>\n",
       "<table border=\"1\" class=\"dataframe\">\n",
       "  <thead>\n",
       "    <tr style=\"text-align: right;\">\n",
       "      <th></th>\n",
       "      <th>Age</th>\n",
       "      <th>Hours per day</th>\n",
       "      <th>While working</th>\n",
       "      <th>Instrumentalist</th>\n",
       "      <th>Composer</th>\n",
       "      <th>Fav genre</th>\n",
       "      <th>Exploratory</th>\n",
       "      <th>Foreign languages</th>\n",
       "      <th>BPM</th>\n",
       "      <th>Frequency [Classical]</th>\n",
       "      <th>...</th>\n",
       "      <th>Frequency [Pop]</th>\n",
       "      <th>Frequency [R&amp;B]</th>\n",
       "      <th>Frequency [Rap]</th>\n",
       "      <th>Frequency [Rock]</th>\n",
       "      <th>Frequency [Video game music]</th>\n",
       "      <th>Anxiety</th>\n",
       "      <th>Depression</th>\n",
       "      <th>Insomnia</th>\n",
       "      <th>OCD</th>\n",
       "      <th>Music effects</th>\n",
       "    </tr>\n",
       "  </thead>\n",
       "  <tbody>\n",
       "    <tr>\n",
       "      <th>0</th>\n",
       "      <td>18</td>\n",
       "      <td>4.0</td>\n",
       "      <td>No</td>\n",
       "      <td>No</td>\n",
       "      <td>No</td>\n",
       "      <td>Video game music</td>\n",
       "      <td>No</td>\n",
       "      <td>Yes</td>\n",
       "      <td>132.0</td>\n",
       "      <td>Never</td>\n",
       "      <td>...</td>\n",
       "      <td>Rarely</td>\n",
       "      <td>Never</td>\n",
       "      <td>Rarely</td>\n",
       "      <td>Rarely</td>\n",
       "      <td>Very frequently</td>\n",
       "      <td>7</td>\n",
       "      <td>7</td>\n",
       "      <td>10</td>\n",
       "      <td>2</td>\n",
       "      <td>No effect</td>\n",
       "    </tr>\n",
       "    <tr>\n",
       "      <th>1</th>\n",
       "      <td>61</td>\n",
       "      <td>2.5</td>\n",
       "      <td>Yes</td>\n",
       "      <td>No</td>\n",
       "      <td>Yes</td>\n",
       "      <td>Jazz</td>\n",
       "      <td>Yes</td>\n",
       "      <td>Yes</td>\n",
       "      <td>84.0</td>\n",
       "      <td>Sometimes</td>\n",
       "      <td>...</td>\n",
       "      <td>Sometimes</td>\n",
       "      <td>Sometimes</td>\n",
       "      <td>Never</td>\n",
       "      <td>Never</td>\n",
       "      <td>Never</td>\n",
       "      <td>9</td>\n",
       "      <td>7</td>\n",
       "      <td>3</td>\n",
       "      <td>3</td>\n",
       "      <td>Improve</td>\n",
       "    </tr>\n",
       "    <tr>\n",
       "      <th>2</th>\n",
       "      <td>18</td>\n",
       "      <td>4.0</td>\n",
       "      <td>Yes</td>\n",
       "      <td>No</td>\n",
       "      <td>No</td>\n",
       "      <td>R&amp;B</td>\n",
       "      <td>Yes</td>\n",
       "      <td>No</td>\n",
       "      <td>107.0</td>\n",
       "      <td>Never</td>\n",
       "      <td>...</td>\n",
       "      <td>Sometimes</td>\n",
       "      <td>Very frequently</td>\n",
       "      <td>Very frequently</td>\n",
       "      <td>Never</td>\n",
       "      <td>Rarely</td>\n",
       "      <td>7</td>\n",
       "      <td>2</td>\n",
       "      <td>5</td>\n",
       "      <td>9</td>\n",
       "      <td>Improve</td>\n",
       "    </tr>\n",
       "    <tr>\n",
       "      <th>3</th>\n",
       "      <td>18</td>\n",
       "      <td>5.0</td>\n",
       "      <td>Yes</td>\n",
       "      <td>Yes</td>\n",
       "      <td>Yes</td>\n",
       "      <td>Jazz</td>\n",
       "      <td>Yes</td>\n",
       "      <td>Yes</td>\n",
       "      <td>86.0</td>\n",
       "      <td>Rarely</td>\n",
       "      <td>...</td>\n",
       "      <td>Very frequently</td>\n",
       "      <td>Very frequently</td>\n",
       "      <td>Very frequently</td>\n",
       "      <td>Very frequently</td>\n",
       "      <td>Never</td>\n",
       "      <td>8</td>\n",
       "      <td>8</td>\n",
       "      <td>7</td>\n",
       "      <td>7</td>\n",
       "      <td>Improve</td>\n",
       "    </tr>\n",
       "    <tr>\n",
       "      <th>4</th>\n",
       "      <td>18</td>\n",
       "      <td>3.0</td>\n",
       "      <td>Yes</td>\n",
       "      <td>Yes</td>\n",
       "      <td>No</td>\n",
       "      <td>Video game music</td>\n",
       "      <td>Yes</td>\n",
       "      <td>Yes</td>\n",
       "      <td>66.0</td>\n",
       "      <td>Sometimes</td>\n",
       "      <td>...</td>\n",
       "      <td>Rarely</td>\n",
       "      <td>Rarely</td>\n",
       "      <td>Never</td>\n",
       "      <td>Never</td>\n",
       "      <td>Sometimes</td>\n",
       "      <td>4</td>\n",
       "      <td>8</td>\n",
       "      <td>6</td>\n",
       "      <td>0</td>\n",
       "      <td>Improve</td>\n",
       "    </tr>\n",
       "  </tbody>\n",
       "</table>\n",
       "<p>5 rows × 30 columns</p>\n",
       "</div>"
      ],
      "text/plain": [
       "   Age  Hours per day While working Instrumentalist Composer  \\\n",
       "0   18            4.0            No              No       No   \n",
       "1   61            2.5           Yes              No      Yes   \n",
       "2   18            4.0           Yes              No       No   \n",
       "3   18            5.0           Yes             Yes      Yes   \n",
       "4   18            3.0           Yes             Yes       No   \n",
       "\n",
       "          Fav genre Exploratory Foreign languages    BPM  \\\n",
       "0  Video game music          No               Yes  132.0   \n",
       "1              Jazz         Yes               Yes   84.0   \n",
       "2               R&B         Yes                No  107.0   \n",
       "3              Jazz         Yes               Yes   86.0   \n",
       "4  Video game music         Yes               Yes   66.0   \n",
       "\n",
       "  Frequency [Classical]  ...  Frequency [Pop]  Frequency [R&B]  \\\n",
       "0                 Never  ...           Rarely            Never   \n",
       "1             Sometimes  ...        Sometimes        Sometimes   \n",
       "2                 Never  ...        Sometimes  Very frequently   \n",
       "3                Rarely  ...  Very frequently  Very frequently   \n",
       "4             Sometimes  ...           Rarely           Rarely   \n",
       "\n",
       "   Frequency [Rap] Frequency [Rock] Frequency [Video game music] Anxiety  \\\n",
       "0           Rarely           Rarely              Very frequently       7   \n",
       "1            Never            Never                        Never       9   \n",
       "2  Very frequently            Never                       Rarely       7   \n",
       "3  Very frequently  Very frequently                        Never       8   \n",
       "4            Never            Never                    Sometimes       4   \n",
       "\n",
       "  Depression Insomnia OCD Music effects  \n",
       "0          7       10   2     No effect  \n",
       "1          7        3   3       Improve  \n",
       "2          2        5   9       Improve  \n",
       "3          8        7   7       Improve  \n",
       "4          8        6   0       Improve  \n",
       "\n",
       "[5 rows x 30 columns]"
      ]
     },
     "execution_count": 2,
     "metadata": {},
     "output_type": "execute_result"
    }
   ],
   "source": [
    "# Import cleaned data\n",
    "\n",
    "survey_df = pd.read_csv('../data/interim/clean_survey_results.csv')\n",
    "survey_df.head()"
   ]
  },
  {
   "cell_type": "markdown",
   "metadata": {},
   "source": [
    "# Exploring BPM\n",
    "\n",
    "Being one of the few continuous variables in this dataset, understanding this column could help develop effective predictive models. Its relationship with genre is particularly of interest. If there is a relationship between BPM and genre, then it can be effective in predicting Music effects."
   ]
  },
  {
   "cell_type": "code",
   "execution_count": 3,
   "metadata": {},
   "outputs": [
    {
     "data": {
      "image/png": "[encoded data removed]",
      "text/plain": [
       "<Figure size 640x480 with 1 Axes>"
      ]
     },
     "metadata": {},
     "output_type": "display_data"
    }
   ],
   "source": [
    "# Visualize overall distribution of BPM\n",
    "\n",
    "plt.hist(survey_df['BPM'])\n",
    "plt.xlabel('BPM')\n",
    "plt.ylabel('# of observations')\n",
    "plt.title('Distribution of BPM')\n",
    "\n",
    "plt.show()"
   ]
  },
  {
   "cell_type": "markdown",
   "metadata": {},
   "source": [
    "BPM appears to be normally distributed across the dataset. Let's see how it's distributed grouped by genre."
   ]
  },
  {
   "cell_type": "code",
   "execution_count": 4,
   "metadata": {},
   "outputs": [
    {
     "data": {
      "image/png": "[encoded data removed]",
      "text/plain": [
       "<Figure size 640x480 with 1 Axes>"
      ]
     },
     "metadata": {},
     "output_type": "display_data"
    }
   ],
   "source": [
    "# Visualize distribution of BPM by genre\n",
    "\n",
    "sns.boxplot(x='Fav genre', y='BPM', data=survey_df)\n",
    "\n",
    "plt.xticks(rotation=90)\n",
    "plt.title('Distribution of BPM by Favorite Genre')\n",
    "\n",
    "plt.show()"
   ]
  },
  {
   "cell_type": "markdown",
   "metadata": {},
   "source": [
    "This figure reveals that the median BPM of each genre does lie somewhere between 100 and 130. Some genres, such as Classical, have a much wider IQR, implying that data is less clustered around the median and more dispersed. Some genres have highly right-skewed BPM, such as Lofi and Jazz. \n",
    "\n",
    "The figure also reveals that very few respondents selected Gospel as their favorite genre.\n",
    "\n",
    "We'll use an ANOVA test to test whether statistically significant differences exist in BPM between genres."
   ]
  },
  {
   "cell_type": "markdown",
   "metadata": {},
   "source": [
    "### ANOVA Test\n",
    "\n",
    "Null hypothesis: There is no significant difference in mean BPM per genre.\n",
    "\n",
    "Alternative hypothesis: At least one genre has a significantly different mean BPM from the other groups."
   ]
  },
  {
   "cell_type": "code",
   "execution_count": 5,
   "metadata": {},
   "outputs": [
    {
     "name": "stdout",
     "output_type": "stream",
     "text": [
      "F-statistic: 4.9092158286651095, p-value: 3.384358972161804e-09\n"
     ]
    }
   ],
   "source": [
    "# Separate data by genre\n",
    "genres = survey_df['Fav genre'].unique()\n",
    "bpm_groups = [survey_df[survey_df['Fav genre'] == genre]['BPM'] for genre in genres]\n",
    "\n",
    "# Perform one-way ANOVA\n",
    "f_stat, p_value = f_oneway(*bpm_groups)\n",
    "\n",
    "print(f\"F-statistic: {f_stat}, p-value: {p_value}\")"
   ]
  },
  {
   "cell_type": "markdown",
   "metadata": {},
   "source": [
    "The p-value represents the probability that a large difference in mean BPM was observed purely by chance between genres. Since this is very low, this means we can reject the null hypothesis and conclude that there is a statistically significant difference between mean BPM.\n",
    "\n",
    "The f-statistic is relatively large, implying that there is more variation between genre mean BPMs rather than within each genre."
   ]
  },
  {
   "cell_type": "markdown",
   "metadata": {},
   "source": [
    "## Logistic Regression\n",
    "\n"
   ]
  },
  {
   "cell_type": "code",
   "execution_count": 6,
   "metadata": {},
   "outputs": [
    {
     "data": {
      "text/html": [
       "<div>\n",
       "<style scoped>\n",
       "    .dataframe tbody tr th:only-of-type {\n",
       "        vertical-align: middle;\n",
       "    }\n",
       "\n",
       "    .dataframe tbody tr th {\n",
       "        vertical-align: top;\n",
       "    }\n",
       "\n",
       "    .dataframe thead th {\n",
       "        text-align: right;\n",
       "    }\n",
       "</style>\n",
       "<table border=\"1\" class=\"dataframe\">\n",
       "  <thead>\n",
       "    <tr style=\"text-align: right;\">\n",
       "      <th></th>\n",
       "      <th>Age</th>\n",
       "      <th>Hours per day</th>\n",
       "      <th>While working</th>\n",
       "      <th>Instrumentalist</th>\n",
       "      <th>Composer</th>\n",
       "      <th>Exploratory</th>\n",
       "      <th>Foreign languages</th>\n",
       "      <th>BPM</th>\n",
       "      <th>Frequency [Classical]</th>\n",
       "      <th>Frequency [Country]</th>\n",
       "      <th>...</th>\n",
       "      <th>Jazz</th>\n",
       "      <th>K pop</th>\n",
       "      <th>Latin</th>\n",
       "      <th>Lofi</th>\n",
       "      <th>Metal</th>\n",
       "      <th>Pop</th>\n",
       "      <th>R&amp;B</th>\n",
       "      <th>Rap</th>\n",
       "      <th>Rock</th>\n",
       "      <th>Video game music</th>\n",
       "    </tr>\n",
       "  </thead>\n",
       "  <tbody>\n",
       "    <tr>\n",
       "      <th>0</th>\n",
       "      <td>18</td>\n",
       "      <td>4.0</td>\n",
       "      <td>0</td>\n",
       "      <td>0</td>\n",
       "      <td>0</td>\n",
       "      <td>0</td>\n",
       "      <td>1</td>\n",
       "      <td>132.0</td>\n",
       "      <td>0</td>\n",
       "      <td>0</td>\n",
       "      <td>...</td>\n",
       "      <td>0</td>\n",
       "      <td>0</td>\n",
       "      <td>0</td>\n",
       "      <td>0</td>\n",
       "      <td>0</td>\n",
       "      <td>0</td>\n",
       "      <td>0</td>\n",
       "      <td>0</td>\n",
       "      <td>0</td>\n",
       "      <td>1</td>\n",
       "    </tr>\n",
       "    <tr>\n",
       "      <th>1</th>\n",
       "      <td>61</td>\n",
       "      <td>2.5</td>\n",
       "      <td>1</td>\n",
       "      <td>0</td>\n",
       "      <td>1</td>\n",
       "      <td>1</td>\n",
       "      <td>1</td>\n",
       "      <td>84.0</td>\n",
       "      <td>2</td>\n",
       "      <td>0</td>\n",
       "      <td>...</td>\n",
       "      <td>1</td>\n",
       "      <td>0</td>\n",
       "      <td>0</td>\n",
       "      <td>0</td>\n",
       "      <td>0</td>\n",
       "      <td>0</td>\n",
       "      <td>0</td>\n",
       "      <td>0</td>\n",
       "      <td>0</td>\n",
       "      <td>0</td>\n",
       "    </tr>\n",
       "    <tr>\n",
       "      <th>2</th>\n",
       "      <td>18</td>\n",
       "      <td>4.0</td>\n",
       "      <td>1</td>\n",
       "      <td>0</td>\n",
       "      <td>0</td>\n",
       "      <td>1</td>\n",
       "      <td>0</td>\n",
       "      <td>107.0</td>\n",
       "      <td>0</td>\n",
       "      <td>0</td>\n",
       "      <td>...</td>\n",
       "      <td>0</td>\n",
       "      <td>0</td>\n",
       "      <td>0</td>\n",
       "      <td>0</td>\n",
       "      <td>0</td>\n",
       "      <td>0</td>\n",
       "      <td>1</td>\n",
       "      <td>0</td>\n",
       "      <td>0</td>\n",
       "      <td>0</td>\n",
       "    </tr>\n",
       "    <tr>\n",
       "      <th>3</th>\n",
       "      <td>18</td>\n",
       "      <td>5.0</td>\n",
       "      <td>1</td>\n",
       "      <td>1</td>\n",
       "      <td>1</td>\n",
       "      <td>1</td>\n",
       "      <td>1</td>\n",
       "      <td>86.0</td>\n",
       "      <td>1</td>\n",
       "      <td>2</td>\n",
       "      <td>...</td>\n",
       "      <td>1</td>\n",
       "      <td>0</td>\n",
       "      <td>0</td>\n",
       "      <td>0</td>\n",
       "      <td>0</td>\n",
       "      <td>0</td>\n",
       "      <td>0</td>\n",
       "      <td>0</td>\n",
       "      <td>0</td>\n",
       "      <td>0</td>\n",
       "    </tr>\n",
       "    <tr>\n",
       "      <th>4</th>\n",
       "      <td>18</td>\n",
       "      <td>3.0</td>\n",
       "      <td>1</td>\n",
       "      <td>1</td>\n",
       "      <td>0</td>\n",
       "      <td>1</td>\n",
       "      <td>1</td>\n",
       "      <td>66.0</td>\n",
       "      <td>2</td>\n",
       "      <td>0</td>\n",
       "      <td>...</td>\n",
       "      <td>0</td>\n",
       "      <td>0</td>\n",
       "      <td>0</td>\n",
       "      <td>0</td>\n",
       "      <td>0</td>\n",
       "      <td>0</td>\n",
       "      <td>0</td>\n",
       "      <td>0</td>\n",
       "      <td>0</td>\n",
       "      <td>1</td>\n",
       "    </tr>\n",
       "  </tbody>\n",
       "</table>\n",
       "<p>5 rows × 44 columns</p>\n",
       "</div>"
      ],
      "text/plain": [
       "   Age  Hours per day  While working  Instrumentalist  Composer  Exploratory  \\\n",
       "0   18            4.0              0                0         0            0   \n",
       "1   61            2.5              1                0         1            1   \n",
       "2   18            4.0              1                0         0            1   \n",
       "3   18            5.0              1                1         1            1   \n",
       "4   18            3.0              1                1         0            1   \n",
       "\n",
       "   Foreign languages    BPM  Frequency [Classical]  Frequency [Country]  ...  \\\n",
       "0                  1  132.0                      0                    0  ...   \n",
       "1                  1   84.0                      2                    0  ...   \n",
       "2                  0  107.0                      0                    0  ...   \n",
       "3                  1   86.0                      1                    2  ...   \n",
       "4                  1   66.0                      2                    0  ...   \n",
       "\n",
       "   Jazz  K pop  Latin  Lofi  Metal  Pop  R&B  Rap  Rock  Video game music  \n",
       "0     0      0      0     0      0    0    0    0     0                 1  \n",
       "1     1      0      0     0      0    0    0    0     0                 0  \n",
       "2     0      0      0     0      0    0    1    0     0                 0  \n",
       "3     1      0      0     0      0    0    0    0     0                 0  \n",
       "4     0      0      0     0      0    0    0    0     0                 1  \n",
       "\n",
       "[5 rows x 44 columns]"
      ]
     },
     "execution_count": 6,
     "metadata": {},
     "output_type": "execute_result"
    }
   ],
   "source": [
    "# Load preprocessed data\n",
    "\n",
    "ml_survey_data = pd.read_csv('../data/processed/pre_processed_survey_results.csv')\n",
    "ml_survey_data.head()"
   ]
  },
  {
   "cell_type": "code",
   "execution_count": 25,
   "metadata": {},
   "outputs": [],
   "source": [
    "# Separate data in dependent and explanatory variables\n",
    "\n",
    "X = ml_survey_data['BPM'].values.reshape(-1,1)\n",
    "y = ml_survey_data['Rock'].values\n",
    "\n",
    "# Create training and testing data\n",
    "\n",
    "X_train, X_test, y_train, y_test = train_test_split(X, y, test_size=0.3, random_state=True)\n",
    "\n",
    "# Initialize logistic regression instance\n",
    "lr = LogisticRegression()\n",
    "\n",
    "lr.fit(X_train, y_train)\n",
    "predictions = lr.predict(X_test)"
   ]
  },
  {
   "cell_type": "code",
   "execution_count": 26,
   "metadata": {},
   "outputs": [
    {
     "data": {
      "text/plain": [
       "array([0.26944405, 0.29184038, 0.27494042, 0.26267193, 0.28378391,\n",
       "       0.27494042, 0.27218355, 0.31032479, 0.26808084, 0.27355982,\n",
       "       0.27540158, 0.28661201, 0.27586322, 0.25469143, 0.26311997,\n",
       "       0.27035528, 0.27035528, 0.25999396, 0.28144008, 0.26536758,\n",
       "       0.29857505, 0.27310058, 0.27235763, 0.29809105, 0.27443702,\n",
       "       0.28661201, 0.27443702, 0.28331421, 0.30884219, 0.26581857,\n",
       "       0.29809105, 0.27586322, 0.26944405, 0.25910525, 0.27494042,\n",
       "       0.30051555, 0.29136276, 0.26717447, 0.26672202, 0.26311997,\n",
       "       0.2823762 , 0.2617773 , 0.27264182, 0.27586322, 0.26808084,\n",
       "       0.27494042, 0.25689214, 0.24601345, 0.26717447, 0.27310058,\n",
       "       0.27235763, 0.27910807, 0.28755845, 0.27586322, 0.27494042,\n",
       "       0.28144008, 0.277251  , 0.26133073, 0.26808084, 0.28566744,\n",
       "       0.27494042, 0.28661201, 0.28190791, 0.28898159, 0.31729489,\n",
       "       0.26133073, 0.28425409, 0.292797  , 0.28425409, 0.30343975,\n",
       "       0.2823762 , 0.28425409, 0.27401954, 0.25910525, 0.26808084,\n",
       "       0.26989942, 0.27035528, 0.27771455, 0.27494042, 0.29375545,\n",
       "       0.27443702, 0.30637994, 0.29184038, 0.26491708, 0.26267193,\n",
       "       0.27494042, 0.26536758, 0.25381463, 0.25206701, 0.27494042,\n",
       "       0.28425409, 0.28050586, 0.30343975, 0.2823762 , 0.26356852,\n",
       "       0.28190791, 0.26267193, 0.27957352, 0.27957352, 0.27172575,\n",
       "       0.27494042, 0.28898159, 0.26401755, 0.26581857, 0.26898916,\n",
       "       0.26808084, 0.30246323, 0.27035528, 0.27957352, 0.27586322,\n",
       "       0.27587245, 0.27443702, 0.27443702, 0.23963706, 0.25206701,\n",
       "       0.27172575, 0.26311997, 0.26491708, 0.27586322, 0.27264182,\n",
       "       0.29471573, 0.27540158, 0.25954936, 0.24946059, 0.28898159,\n",
       "       0.26133073, 0.28425409, 0.27864309, 0.30343975, 0.29375545,\n",
       "       0.26088465, 0.26491708, 0.28378391, 0.31829744, 0.28755845,\n",
       "       0.27126845, 0.29375545, 0.28898159, 0.25206701, 0.27771455,\n",
       "       0.27494042, 0.27586322, 0.25733377, 0.27172575, 0.26088465,\n",
       "       0.27126845, 0.27443702, 0.26356852, 0.27586322, 0.27494042,\n",
       "       0.27771455, 0.25557022, 0.29375545, 0.26043906, 0.2990595 ,\n",
       "       0.27587245, 0.27494042, 0.27126845, 0.27231716, 0.30392867,\n",
       "       0.27447974, 0.28661201, 0.27264182, 0.27586322, 0.2990595 ,\n",
       "       0.27910807, 0.26043906, 0.29375545, 0.27264182, 0.26536758,\n",
       "       0.30051555, 0.30002975, 0.2990595 , 0.28898159, 0.27235763,\n",
       "       0.28190791, 0.27443702, 0.30295127, 0.29809105, 0.28519586,\n",
       "       0.25206701, 0.26853476, 0.27587245, 0.28425409, 0.27447974,\n",
       "       0.28850675, 0.27126845, 0.27957352, 0.26222437, 0.26088465,\n",
       "       0.31330168, 0.28898159, 0.27494042, 0.30051555, 0.28898159,\n",
       "       0.28425409, 0.26808084, 0.2617773 , 0.27447974, 0.27035528,\n",
       "       0.26627005, 0.28425409, 0.27443702, 0.28425409, 0.27540158,\n",
       "       0.27540158, 0.26808084, 0.26267193, 0.27586322, 0.27586322,\n",
       "       0.3010018 , 0.28898159, 0.2995444 , 0.27494042, 0.25733377,\n",
       "       0.26808084])"
      ]
     },
     "execution_count": 26,
     "metadata": {},
     "output_type": "execute_result"
    }
   ],
   "source": [
    "prediction_probs = lr.predict_proba(X_test)[:,1]\n",
    "prediction_probs"
   ]
  },
  {
   "cell_type": "code",
   "execution_count": 16,
   "metadata": {},
   "outputs": [
    {
     "name": "stdout",
     "output_type": "stream",
     "text": [
      "0.7407407407407407\n"
     ]
    }
   ],
   "source": [
    "print(accuracy_score(y_test, predictions))"
   ]
  },
  {
   "cell_type": "code",
   "execution_count": 12,
   "metadata": {},
   "outputs": [
    {
     "name": "stdout",
     "output_type": "stream",
     "text": [
      "[[160   0]\n",
      " [ 56   0]]\n"
     ]
    }
   ],
   "source": [
    "print(confusion_matrix(y_test, predictions))"
   ]
  },
  {
   "cell_type": "code",
   "execution_count": 23,
   "metadata": {},
   "outputs": [
    {
     "name": "stdout",
     "output_type": "stream",
     "text": [
      "0.5291294642857144\n"
     ]
    }
   ],
   "source": [
    "print(roc_auc_score(y_test, prediction_probs))"
   ]
  },
  {
   "cell_type": "code",
   "execution_count": null,
   "metadata": {},
   "outputs": [],
   "source": []
  }
 ],
 "metadata": {
  "kernelspec": {
   "display_name": "base",
   "language": "python",
   "name": "python3"
  },
  "language_info": {
   "codemirror_mode": {
    "name": "ipython",
    "version": 3
   },
   "file_extension": ".py",
   "mimetype": "text/x-python",
   "name": "python",
   "nbconvert_exporter": "python",
   "pygments_lexer": "ipython3",
   "version": "3.11.7"
  }
 },
 "nbformat": 4,
 "nbformat_minor": 2
}
